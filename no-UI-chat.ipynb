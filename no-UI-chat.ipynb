{
 "cells": [
  {
   "cell_type": "markdown",
   "metadata": {},
   "source": [
    "# No UI Chat in an Interactive Python Notebook\n",
    "Chat with Open-AI's Chat-GPT"
   ]
  },
  {
   "cell_type": "code",
   "execution_count": 28,
   "metadata": {},
   "outputs": [
    {
     "name": "stdout",
     "output_type": "stream",
     "text": [
      "History of messages:\n",
      "assistant :  How can I help you?\n",
      "user :  What color is the sky?\n",
      "assistant :  The color of the sky can vary depending on the time of day, the weather, and one's location. It is typically perceived as blue during a clear day, red and orange during sunrise or sunset, darker blue or black during clear night, and gray when it's cloudy.\n"
     ]
    }
   ],
   "source": [
    "import openai\n",
    "import toml\n",
    "\n",
    "# Load the TOML file\n",
    "data = toml.load('.streamlit/secrets.toml')\n",
    "openai_api_key = data.get('openai_api_key')\n",
    "\n",
    "# Set the assistant's first message\n",
    "messages = [{\"role\": \"assistant\", \"content\": \"How can I help you?\"}]\n",
    "\n",
    "# Set your own prompt\n",
    "prompt = 'What color is the sky?'\n",
    "message = {\"role\": \"user\", \"content\": prompt}\n",
    "\n",
    "messages.append(message)  # Just append the message, don't reassign\n",
    "\n",
    "# The openAI API call \n",
    "response = openai.ChatCompletion.create(model=\"gpt-4\", messages=messages)\n",
    "msg = response.choices[0].message\n",
    "messages.append(msg)\n",
    "\n",
    "# Display all the historical messages\n",
    "print('History of messages:')\n",
    "for msg in messages:\n",
    "    print(msg[\"role\"], ': ', msg[\"content\"])"
   ]
  }
 ],
 "metadata": {
  "kernelspec": {
   "display_name": "my_env",
   "language": "python",
   "name": "python3"
  },
  "language_info": {
   "codemirror_mode": {
    "name": "ipython",
    "version": 3
   },
   "file_extension": ".py",
   "mimetype": "text/x-python",
   "name": "python",
   "nbconvert_exporter": "python",
   "pygments_lexer": "ipython3",
   "version": "3.10.10"
  }
 },
 "nbformat": 4,
 "nbformat_minor": 2
}
